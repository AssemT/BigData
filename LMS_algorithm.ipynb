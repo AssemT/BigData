{
 "cells": [
  {
   "cell_type": "code",
   "execution_count": 1,
   "metadata": {
    "collapsed": true
   },
   "outputs": [],
   "source": [
    "# The least mean squares (LMS) algorithm \n",
    "import numpy as np\n",
    "import matplotlib.pyplot as plt\n",
    "\n",
    "def LMS(u, d, p, step):\n",
    "    N = len(u)\n",
    "    # Initialization\n",
    "    b = np.zeros(p) # Filter output\n",
    "    e = np.zeros(N) # Error signal\n",
    "    y = np.zeros(N) # Filter output\n",
    "    \n",
    "    # Equalise\n",
    "    for i in range(p, N):\n",
    "        X = u[i:i-p:-1]\n",
    "        y[i] = np.dot(b.transpose(), X)\n",
    "        e[i]= d[i] - y[i]\n",
    "        b = b + e[i]*step*X\n",
    "\n",
    "    return e"
   ]
  },
  {
   "cell_type": "code",
   "execution_count": 6,
   "metadata": {},
   "outputs": [
    {
     "name": "stdout",
     "output_type": "stream",
     "text": [
      "shape u  (1000,)\n",
      "shape d  (1000,)\n"
     ]
    }
   ],
   "source": [
    "import pandas as pd\n",
    "\n",
    "trainData = pd.read_csv(\"lms-data-new-m.txt\", header=None)\n",
    "u = trainData.values[:, 0]\n",
    "print(\"shape u \", u.shape)\n",
    "d = trainData.values[:, 1]\n",
    "print(\"shape d \", d.shape)\n",
    "\n",
    "M       = 4     # order\n",
    "step    = 0.2   # step size\n",
    "\n"
   ]
  },
  {
   "cell_type": "code",
   "execution_count": 7,
   "metadata": {},
   "outputs": [
    {
     "data": {
      "image/png": "[encoded data removed]",
      "text/plain": [
       "<Figure size 432x288 with 1 Axes>"
      ]
     },
     "metadata": {},
     "output_type": "display_data"
    }
   ],
   "source": [
    "# plotting error signal decreasing\n",
    "e = LMS(u, d, M, step)\n",
    "plt.figure()\n",
    "plt.plot(np.abs(e))\n",
    "plt.show()\n"
   ]
  },
  {
   "cell_type": "code",
   "execution_count": null,
   "metadata": {
    "collapsed": true
   },
   "outputs": [],
   "source": []
  }
 ],
 "metadata": {
  "kernelspec": {
   "display_name": "Python 3",
   "language": "python",
   "name": "python3"
  },
  "language_info": {
   "codemirror_mode": {
    "name": "ipython",
    "version": 3
   },
   "file_extension": ".py",
   "mimetype": "text/x-python",
   "name": "python",
   "nbconvert_exporter": "python",
   "pygments_lexer": "ipython3",
   "version": "3.6.1"
  }
 },
 "nbformat": 4,
 "nbformat_minor": 2
}
